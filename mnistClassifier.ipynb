{
 "cells": [
  {
   "cell_type": "markdown",
   "metadata": {},
   "source": [
    "# MNIST Classifier of Hand Written Digits using Keras\n",
    "\n",
    "Import the necessary dependencies and import the test"
   ]
  },
  {
   "cell_type": "code",
   "execution_count": 168,
   "metadata": {},
   "outputs": [],
   "source": [
    "import numpy as np\n",
    "import matplotlib\n",
    "matplotlib.use('agg')\n",
    "import matplotlib.pyplot as plt\n",
    "\n",
    "from keras.datasets import mnist\n",
    "from keras.models import Sequential, load_model\n",
    "from keras.layers.core import Dense, Dropout, Activation\n",
    "from keras.utils import np_utils\n",
    "from keras import backend as K, layers\n",
    "K.set_image_dim_ordering('th')\n",
    "\n",
    "# Reduce log level\n",
    "import os\n",
    "os.environ['TF_CPP_MIN_LOG_LEVEL']='3'"
   ]
  },
  {
   "cell_type": "markdown",
   "metadata": {},
   "source": [
    "## Keras Sequential Model\n",
    "\n",
    "Using [Keras Sequential Model](https://keras.io/getting-started/sequential-model-guide/) we can create a linear layer stack. The model needs to know what input shape it should expect. For this reason, we need to specify the input shape.\n",
    "\n",
    "Here we'll create one linear classifier and one ConvNet classifier"
   ]
  },
  {
   "cell_type": "markdown",
   "metadata": {},
   "source": [
    "### Linear Classifier\n",
    "\n",
    "First we need to reshape and normalize the training data to 28x28 images. Meaning that the input vectors length will be same as the pixels i.e. 28x28 = 784.\n",
    "Also specify the length of the categories i.e. 10 using one-hot encoding (i.e. making the values only ones and zeros e.g. [0,0,0,1,0,0,0,0,0,0] would represent the value 3) since we have images of values from 0-9."
   ]
  },
  {
   "cell_type": "code",
   "execution_count": 191,
   "metadata": {},
   "outputs": [
    {
     "name": "stdout",
     "output_type": "stream",
     "text": [
      "Train matrix shape (60000, 784)\n",
      "Test matrix shape (10000, 784)\n",
      "Train categories shape (60000, 10)\n"
     ]
    }
   ],
   "source": [
    "# Fetch the datasets\n",
    "(X_train, y_train), (X_test, y_test) = mnist.load_data()\n",
    "\n",
    "# Reshape tuple to use number of pixels instead\n",
    "n_pixels = X_train.shape[1] * X_train.shape[2]\n",
    "X_train = X_train.reshape(X_train.shape[0], n_pixels)\n",
    "X_test = X_test.reshape(X_test.shape[0], n_pixels)\n",
    "X_train = X_train.astype('float32')\n",
    "X_test = X_test.astype('float32')\n",
    "\n",
    "# Normalize the data from greyscale 0-255 to 0-1\n",
    "X_train /= 255\n",
    "X_test /= 255\n",
    "\n",
    "# Print the final input shape ready for training\n",
    "print(\"Train matrix shape\", X_train.shape)\n",
    "print(\"Test matrix shape\", X_test.shape)\n",
    "\n",
    "# One-hot encoding\n",
    "# Convert to binary encoding\n",
    "n_classes = Y_train.shape[1]\n",
    "Y_train = np_utils.to_categorical(y_train, n_classes)\n",
    "Y_test = np_utils.to_categorical(y_test, n_classes)\n",
    "print(\"Train categories shape\", Y_train.shape)\n"
   ]
  },
  {
   "cell_type": "markdown",
   "metadata": {},
   "source": [
    "#### Compile the Linear Sequential Model\n",
    "\n",
    "Initialize the linear sequential model"
   ]
  },
  {
   "cell_type": "code",
   "execution_count": 192,
   "metadata": {},
   "outputs": [],
   "source": [
    "# Initiate the Linear Sequential Model\n",
    "# Only using defining one output layer corresponds to a linear classifier\n",
    "linear_model = Sequential([\n",
    "    Dense(n_classes, input_shape=(n_pixels,)),\n",
    "    Activation('softmax'),\n",
    "])\n",
    "\n",
    "# Compile the model using cross entropy loss\n",
    "# and Adam (https://arxiv.org/abs/1412.6980v8) gradient-based optimizer\n",
    "linear_model.compile(loss='categorical_crossentropy', metrics=['accuracy'], optimizer='adam')"
   ]
  },
  {
   "cell_type": "markdown",
   "metadata": {},
   "source": [
    "#### Training the Linear Stack\n",
    "\n",
    "Training the model for 20 epochs. The lower the loss, the better."
   ]
  },
  {
   "cell_type": "code",
   "execution_count": 193,
   "metadata": {},
   "outputs": [
    {
     "name": "stdout",
     "output_type": "stream",
     "text": [
      "Train on 60000 samples, validate on 10000 samples\n",
      "Epoch 1/15\n",
      " - 2s - loss: 0.6793 - acc: 0.8292 - val_loss: 0.3837 - val_acc: 0.9018\n",
      "Epoch 2/15\n",
      " - 1s - loss: 0.3627 - acc: 0.9018 - val_loss: 0.3196 - val_acc: 0.9153\n",
      "Epoch 3/15\n",
      " - 1s - loss: 0.3196 - acc: 0.9123 - val_loss: 0.2961 - val_acc: 0.9192\n",
      "Epoch 4/15\n",
      " - 1s - loss: 0.2995 - acc: 0.9172 - val_loss: 0.2827 - val_acc: 0.9223\n",
      "Epoch 5/15\n",
      " - 1s - loss: 0.2877 - acc: 0.9200 - val_loss: 0.2769 - val_acc: 0.9230\n",
      "Epoch 6/15\n",
      " - 1s - loss: 0.2796 - acc: 0.9221 - val_loss: 0.2724 - val_acc: 0.9236\n",
      "Epoch 7/15\n",
      " - 1s - loss: 0.2737 - acc: 0.9235 - val_loss: 0.2701 - val_acc: 0.9246\n",
      "Epoch 8/15\n",
      " - 1s - loss: 0.2690 - acc: 0.9253 - val_loss: 0.2683 - val_acc: 0.9252\n",
      "Epoch 9/15\n",
      " - 1s - loss: 0.2653 - acc: 0.9259 - val_loss: 0.2694 - val_acc: 0.9242\n",
      "Epoch 10/15\n",
      " - 1s - loss: 0.2623 - acc: 0.9269 - val_loss: 0.2681 - val_acc: 0.9251\n",
      "Epoch 11/15\n",
      " - 1s - loss: 0.2593 - acc: 0.9277 - val_loss: 0.2684 - val_acc: 0.9253\n",
      "Epoch 12/15\n",
      " - 1s - loss: 0.2574 - acc: 0.9279 - val_loss: 0.2628 - val_acc: 0.9278\n",
      "Epoch 13/15\n",
      " - 1s - loss: 0.2554 - acc: 0.9294 - val_loss: 0.2639 - val_acc: 0.9265\n",
      "Epoch 14/15\n",
      " - 1s - loss: 0.2531 - acc: 0.9300 - val_loss: 0.2647 - val_acc: 0.9268\n",
      "Epoch 15/15\n",
      " - 1s - loss: 0.2517 - acc: 0.9309 - val_loss: 0.2635 - val_acc: 0.9263\n"
     ]
    },
    {
     "data": {
      "text/plain": [
       "<keras.callbacks.History at 0x14ce2e668>"
      ]
     },
     "execution_count": 193,
     "metadata": {},
     "output_type": "execute_result"
    }
   ],
   "source": [
    "# Training the model for 10 epochs\n",
    "linear_model.fit(X_train, Y_train,\n",
    "          batch_size=128, epochs=15,\n",
    "          verbose=2,\n",
    "          validation_data=(X_test, Y_test))"
   ]
  },
  {
   "cell_type": "markdown",
   "metadata": {},
   "source": [
    "#### Test & Evaluate"
   ]
  },
  {
   "cell_type": "code",
   "execution_count": 194,
   "metadata": {},
   "outputs": [
    {
     "name": "stdout",
     "output_type": "stream",
     "text": [
      "\n",
      "Linear Classifier:\n",
      "9263  classified correctly\n",
      "737  classified incorrectly\n"
     ]
    },
    {
     "data": {
      "image/png": "[encoded data removed]",
      "text/plain": [
       "<Figure size 504x864 with 12 Axes>"
      ]
     },
     "metadata": {},
     "output_type": "display_data"
    }
   ],
   "source": [
    "%matplotlib inline\n",
    "\n",
    "# Get the model predictions on the test set\n",
    "predicted_classes = linear_model.predict_classes(X_test)\n",
    "\n",
    "#\n",
    "# Create arrays using numpy to evaluate the predictions for conv model\n",
    "#\n",
    "correct_indices = np.nonzero(predicted_classes == y_test)[0]\n",
    "incorrect_indices = np.nonzero(predicted_classes != y_test)[0]\n",
    "print()\n",
    "print('Linear Classifier:')\n",
    "print(len(correct_indices),\" classified correctly\")\n",
    "print(len(incorrect_indices),\" classified incorrectly\")\n",
    "\n",
    "# Set figure image size\n",
    "plt.rcParams['figure.figsize'] = (7,12)\n",
    "\n",
    "figure_evaluation = plt.figure()\n",
    "\n",
    "# Plot 6 correct predictions\n",
    "for i, correct in enumerate(correct_indices[:6]):\n",
    "    plt.subplot(6,3,i+1)\n",
    "    plt.imshow(X_test[correct].reshape(28,28), cmap='gray', interpolation='none')\n",
    "    plt.title(\n",
    "      \"Predicted: {}, Truth: {}\".format(predicted_classes[correct],\n",
    "                                        y_test[correct]))\n",
    "    plt.xticks([])\n",
    "    plt.yticks([])\n",
    "\n",
    "# Plot 6 incorrect predictions\n",
    "for i, incorrect in enumerate(incorrect_indices[:6]):\n",
    "    plt.subplot(6,3,i+10)\n",
    "    plt.imshow(X_test[incorrect].reshape(28,28), cmap='gray', interpolation='none')\n",
    "    plt.title(\n",
    "      \"Predicted {}, Truth: {}\".format(predicted_classes[incorrect], \n",
    "                                       y_test[incorrect]))\n",
    "    plt.xticks([])\n",
    "    plt.yticks([])"
   ]
  },
  {
   "cell_type": "markdown",
   "metadata": {},
   "source": [
    "### ConvNet Classifier\n",
    "\n",
    "For the ConvNet input vector we need to do some other reshaping. To work with Keras API for 2D-convolutions, we need to reshape the image data to 4 dimensions."
   ]
  },
  {
   "cell_type": "code",
   "execution_count": 185,
   "metadata": {},
   "outputs": [
    {
     "name": "stdout",
     "output_type": "stream",
     "text": [
      "Train matrix shape (60000, 1, 28, 28)\n",
      "Test matrix shape (10000, 1, 28, 28)\n",
      "Train categories shape (60000, 10)\n"
     ]
    }
   ],
   "source": [
    "# Fetch the datasets\n",
    "(X_train, y_train), (X_test, y_test) = mnist.load_data()\n",
    "\n",
    "# Reshape to 4 dimensions i.e. samples, pixels, width, height\n",
    "X_train = X_train.reshape(X_train.shape[0], 1, 28, 28).astype('float32')\n",
    "X_test = X_test.reshape(X_test.shape[0], 1, 28, 28).astype('float32')\n",
    "\n",
    "# Normalize the data from greyscale 0-255 to 0-1\n",
    "X_train /= 255\n",
    "X_test /= 255\n",
    "\n",
    "# Print the final input shape ready for training\n",
    "print(\"Train matrix shape\", X_train.shape)\n",
    "print(\"Test matrix shape\", X_test.shape)\n",
    "\n",
    "# One-hot encoding\n",
    "# Convert to binary encoding\n",
    "n_classes = Y_train.shape[1]\n",
    "Y_train = np_utils.to_categorical(y_train, n_classes)\n",
    "Y_test = np_utils.to_categorical(y_test, n_classes)\n",
    "print(\"Train categories shape\", Y_train.shape)"
   ]
  },
  {
   "cell_type": "markdown",
   "metadata": {},
   "source": [
    "#### Compile the ConvNet Sequential Model\n",
    "\n",
    "We´re adding two hidden layers, one being the convolutional layer and one fully connected layer."
   ]
  },
  {
   "cell_type": "code",
   "execution_count": 186,
   "metadata": {},
   "outputs": [],
   "source": [
    "# Import necessary deps for conv2d\n",
    "from keras.layers import Dense, Conv2D, Dropout, Flatten, MaxPooling2D\n",
    "\n",
    "# Initiate the ConvNet Sequential Model\n",
    "conv_model = Sequential()\n",
    "\n",
    "# Add the first hidden layer - the convolutional layer\n",
    "conv_model.add(Conv2D(32, (5, 5), input_shape=(1, 28, 28), activation='relu')) # the input layer, expecting pixel, width, height\n",
    "conv_model.add(MaxPooling2D(pool_size=(2, 2))) # pooling layer with size 2X2\n",
    "conv_model.add(Dropout(0.2)) # Exclude 20% of the layer nodes to reduce overfitting\n",
    "conv_model.add(Flatten()) # Convert the 2D data to vector\n",
    "\n",
    "# Add the second fully connected hidden layer\n",
    "conv_model.add(Dense(128, activation='relu'))\n",
    "\n",
    "# Add the output layer\n",
    "conv_model.add(Dense(n_classes, activation='softmax'))\n",
    "\n",
    "# Compile the model using cross entropy loss\n",
    "# and Adam (https://arxiv.org/abs/1412.6980v8) gradient-based optimizer\n",
    "conv_model.compile(loss='categorical_crossentropy', metrics=['accuracy'], optimizer='adam')"
   ]
  },
  {
   "cell_type": "markdown",
   "metadata": {},
   "source": [
    "#### Training the ConvNet Model\n"
   ]
  },
  {
   "cell_type": "code",
   "execution_count": 188,
   "metadata": {},
   "outputs": [
    {
     "name": "stdout",
     "output_type": "stream",
     "text": [
      "Train on 60000 samples, validate on 10000 samples\n",
      "Epoch 1/10\n",
      " - 177s - loss: 0.0513 - acc: 0.9839 - val_loss: 0.0468 - val_acc: 0.9847\n",
      "Epoch 2/10\n",
      " - 161s - loss: 0.0404 - acc: 0.9877 - val_loss: 0.0395 - val_acc: 0.9869\n",
      "Epoch 3/10\n",
      " - 176s - loss: 0.0318 - acc: 0.9901 - val_loss: 0.0409 - val_acc: 0.9858\n",
      "Epoch 4/10\n",
      " - 159s - loss: 0.0264 - acc: 0.9917 - val_loss: 0.0357 - val_acc: 0.9893\n",
      "Epoch 5/10\n",
      " - 154s - loss: 0.0225 - acc: 0.9927 - val_loss: 0.0327 - val_acc: 0.9902\n",
      "Epoch 6/10\n",
      " - 174s - loss: 0.0188 - acc: 0.9942 - val_loss: 0.0320 - val_acc: 0.9900\n",
      "Epoch 7/10\n",
      " - 172s - loss: 0.0158 - acc: 0.9951 - val_loss: 0.0325 - val_acc: 0.9901\n",
      "Epoch 8/10\n",
      " - 164s - loss: 0.0133 - acc: 0.9957 - val_loss: 0.0331 - val_acc: 0.9894\n",
      "Epoch 9/10\n",
      " - 149s - loss: 0.0112 - acc: 0.9967 - val_loss: 0.0343 - val_acc: 0.9893\n",
      "Epoch 10/10\n",
      " - 162s - loss: 0.0092 - acc: 0.9970 - val_loss: 0.0351 - val_acc: 0.9897\n"
     ]
    },
    {
     "data": {
      "text/plain": [
       "<keras.callbacks.History at 0x14bd8aef0>"
      ]
     },
     "execution_count": 188,
     "metadata": {},
     "output_type": "execute_result"
    }
   ],
   "source": [
    "# Training the model for 10 epochs\n",
    "conv_model.fit(X_train, Y_train,\n",
    "          batch_size=200, epochs=10,\n",
    "          verbose=2,\n",
    "          validation_data=(X_test, Y_test))"
   ]
  },
  {
   "cell_type": "markdown",
   "metadata": {},
   "source": [
    "#### Test & Evaluate"
   ]
  },
  {
   "cell_type": "code",
   "execution_count": 190,
   "metadata": {},
   "outputs": [
    {
     "name": "stdout",
     "output_type": "stream",
     "text": [
      "\n",
      "ConvNet Classifier:\n",
      "9897  classified correctly\n",
      "103  classified incorrectly\n"
     ]
    },
    {
     "data": {
      "image/png": "[encoded data removed]",
      "text/plain": [
       "<Figure size 504x864 with 12 Axes>"
      ]
     },
     "metadata": {},
     "output_type": "display_data"
    }
   ],
   "source": [
    "%matplotlib inline\n",
    "\n",
    "# Get the model predictions on the test set\n",
    "predicted_classes = conv_model.predict_classes(X_test)\n",
    "\n",
    "#\n",
    "# Create arrays using numpy to evaluate the predictions for conv model\n",
    "#\n",
    "correct_indices = np.nonzero(predicted_classes == y_test)[0]\n",
    "incorrect_indices = np.nonzero(predicted_classes != y_test)[0]\n",
    "print()\n",
    "print('ConvNet Classifier:')\n",
    "print(len(correct_indices),\" classified correctly\")\n",
    "print(len(incorrect_indices),\" classified incorrectly\")\n",
    "\n",
    "# Set figure image size\n",
    "plt.rcParams['figure.figsize'] = (7,12)\n",
    "\n",
    "figure_evaluation = plt.figure()\n",
    "\n",
    "# Plot 6 correct predictions\n",
    "for i, correct in enumerate(correct_indices[:6]):\n",
    "    plt.subplot(6,3,i+1)\n",
    "    plt.imshow(X_test[correct].reshape(28,28), cmap='gray', interpolation='none')\n",
    "    plt.title(\n",
    "      \"Predicted: {}, Truth: {}\".format(predicted_classes[correct],\n",
    "                                        y_test[correct]))\n",
    "    plt.xticks([])\n",
    "    plt.yticks([])\n",
    "\n",
    "# Plot 6 incorrect predictions\n",
    "for i, incorrect in enumerate(incorrect_indices[:6]):\n",
    "    plt.subplot(6,3,i+10)\n",
    "    plt.imshow(X_test[incorrect].reshape(28,28), cmap='gray', interpolation='none')\n",
    "    plt.title(\n",
    "      \"Predicted {}, Truth: {}\".format(predicted_classes[incorrect], \n",
    "                                       y_test[incorrect]))\n",
    "    plt.xticks([])\n",
    "    plt.yticks([])"
   ]
  }
 ],
 "metadata": {
  "kernelspec": {
   "display_name": "Python 3",
   "language": "python",
   "name": "python3"
  },
  "language_info": {
   "codemirror_mode": {
    "name": "ipython",
    "version": 3
   },
   "file_extension": ".py",
   "mimetype": "text/x-python",
   "name": "python",
   "nbconvert_exporter": "python",
   "pygments_lexer": "ipython3",
   "version": "3.6.8"
  }
 },
 "nbformat": 4,
 "nbformat_minor": 2
}
