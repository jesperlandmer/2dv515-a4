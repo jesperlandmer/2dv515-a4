{
 "cells": [
  {
   "cell_type": "markdown",
   "metadata": {},
   "source": [
    "# Neural Network Classifier\n",
    "Using the neural network MLP classifier from scikit to create a two-dimensional linear classifier for 3 classes"
   ]
  },
  {
   "cell_type": "code",
   "execution_count": 42,
   "metadata": {},
   "outputs": [],
   "source": [
    "import csv\n",
    "\n",
    "X = []\n",
    "Y = []\n",
    "\n",
    "with open('spiral.csv') as csv_file:\n",
    "    csv_reader = csv.reader(csv_file, delimiter=',')\n",
    "    line_count = 0\n",
    "    for row in csv_reader:\n",
    "        if line_count != 0:\n",
    "            X.append([float(row[0]), float(row[1])])\n",
    "            Y.append(int(row[2]))\n",
    "        line_count+=1"
   ]
  },
  {
   "cell_type": "code",
   "execution_count": 43,
   "metadata": {},
   "outputs": [
    {
     "name": "stdout",
     "output_type": "stream",
     "text": [
      "[1]\n",
      "[0]\n",
      "[2]\n",
      "[1]\n"
     ]
    }
   ],
   "source": [
    "import numpy as np\n",
    "from sklearn import neural_network\n",
    "\n",
    "# Build the MLP Classifier\n",
    "X = np.array(X)\n",
    "Y = np.array(Y)\n",
    "clf = neural_network.MLPClassifier(hidden_layer_sizes=(100, 72), max_iter=1000, tol=1e-3)\n",
    "clf.fit(X, Y)\n",
    "\n",
    "print(clf.predict([[0.115,0.554]])) # -> 0.115,0.554,1\n",
    "print(clf.predict([[0.042,0.092]])) # -> 0.042,0.092,0\n",
    "print(clf.predict([[-0.762,0.373]])) # -> -0.762,0.373,2\n",
    "print(clf.predict([[-0.250,0.189]])) # -> -0.250,0.189,1"
   ]
  },
  {
   "cell_type": "markdown",
   "metadata": {},
   "source": [
    "## Confusion Matrix\n",
    "\n",
    "Using TP + TN etc. for accuracy score"
   ]
  },
  {
   "cell_type": "code",
   "execution_count": 73,
   "metadata": {},
   "outputs": [
    {
     "name": "stdout",
     "output_type": "stream",
     "text": [
      "y_true: [1 1 1 2 0 1 1 1]\n",
      "y_pred: [1 1 1 2 0 1 1 1]\n",
      "\n",
      "Confusion Matrix (y_true, y_pred):\n",
      "[[1 0 0]\n",
      " [0 6 0]\n",
      " [0 0 1]]\n",
      "\n",
      "Accuracy Score:\n",
      "1.0\n"
     ]
    }
   ],
   "source": [
    "from sklearn.metrics import confusion_matrix\n",
    "from sklearn.metrics import accuracy_score\n",
    "import random\n",
    "\n",
    "# Get confusion matrix\n",
    "y_res = []\n",
    "x_pred = []\n",
    "\n",
    "for i in range(8):\n",
    "    ri = random.choice(np.arange(Y.size))\n",
    "    y_res.append(Y[ri])\n",
    "    x_pred.append(X[ri])\n",
    "\n",
    "y_true = np.array(y_res)\n",
    "y_pred = clf.predict(x_pred)\n",
    "\n",
    "print(f'y_true: {y_true}')\n",
    "print(f'y_pred: {y_pred}')\n",
    "\n",
    "print('\\nConfusion Matrix (y_true, y_pred):')\n",
    "print(confusion_matrix(y_true, y_pred))\n",
    "\n",
    "print('\\nAccuracy Score:')\n",
    "print(accuracy_score(y_true, y_pred))\n"
   ]
  },
  {
   "cell_type": "markdown",
   "metadata": {},
   "source": [
    "We can interpret this using the 1-class:\n",
    "\n",
    "\n",
    "+-----------+--------------+-----------+\n",
    "|Num of 1's |    True 1    | True not 1|\n",
    "+===========+==============+===========+\n",
    "|  Pred 1   |     TP=6     |    FP=0   |\n",
    "+-----------+--------------+-----------+\n",
    "| Pred not 1|     FN=0     |    TN=2   |\n",
    "+-----------+--------------+-----------+\n",
    "\n",
    "Accuracy Score:\n",
    "\n",
    "\\begin{equation*}\n",
    "ACC = \\frac{TP + TN}{TP + TN + FP + FN}\n",
    "\\end{equation*}\n",
    "\n",
    "\\begin{equation*}\n",
    "ACC = \\frac{6 + 2}{6 + 2 + 0 + 0} = \\frac{8}{8} = 1\n",
    "\\end{equation*}"
   ]
  }
 ],
 "metadata": {
  "kernelspec": {
   "display_name": "Python 3",
   "language": "python",
   "name": "python3"
  },
  "language_info": {
   "codemirror_mode": {
    "name": "ipython",
    "version": 3
   },
   "file_extension": ".py",
   "mimetype": "text/x-python",
   "name": "python",
   "nbconvert_exporter": "python",
   "pygments_lexer": "ipython3",
   "version": "3.6.8"
  }
 },
 "nbformat": 4,
 "nbformat_minor": 2
}
