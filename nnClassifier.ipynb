{
 "cells": [
  {
   "cell_type": "markdown",
   "metadata": {},
   "source": [
    "# Neural Network Classifier\n",
    "Using the neural network MLP classifier from scikit to create a two-dimensional linear classifier for 3 classes"
   ]
  },
  {
   "cell_type": "code",
   "execution_count": 3,
   "metadata": {},
   "outputs": [],
   "source": [
    "import csv\n",
    "\n",
    "Xv = []\n",
    "Yv = []\n",
    "\n",
    "with open('spiral.csv') as csv_file:\n",
    "    csv_reader = csv.reader(csv_file, delimiter=',')\n",
    "    line_count = 0\n",
    "    for row in csv_reader:\n",
    "        if line_count != 0:\n",
    "            Xv.append([float(row[0]), float(row[1])])\n",
    "            Yv.append(int(row[2]))\n",
    "        line_count+=1"
   ]
  },
  {
   "cell_type": "code",
   "execution_count": 5,
   "metadata": {},
   "outputs": [
    {
     "name": "stdout",
     "output_type": "stream",
     "text": [
      "[1]\n",
      "[1]\n",
      "[0]\n",
      "[1]\n"
     ]
    }
   ],
   "source": [
    "import numpy as np\n",
    "from sklearn import neural_network\n",
    "\n",
    "X = np.array(Xv)\n",
    "Y = np.array(Yv)\n",
    "clf = neural_network.MLPClassifier(hidden_layer_sizes=(72, ), max_iter=1000, tol=1e-3)\n",
    "clf.fit(X, Y)\n",
    "\n",
    "print(clf.predict([[0.115,0.554]]))\n",
    "print(clf.predict([[0, 0.022]]))\n",
    "print(clf.predict([[-0.115,-0.554]]))\n",
    "print(clf.predict([[0.215,0.554]]))"
   ]
  },
  {
   "cell_type": "markdown",
   "metadata": {},
   "source": [
    "## Scatterplot Presentation"
   ]
  },
  {
   "cell_type": "code",
   "execution_count": null,
   "metadata": {},
   "outputs": [],
   "source": []
  }
 ],
 "metadata": {
  "kernelspec": {
   "display_name": "Python 3",
   "language": "python",
   "name": "python3"
  },
  "language_info": {
   "codemirror_mode": {
    "name": "ipython",
    "version": 3
   },
   "file_extension": ".py",
   "mimetype": "text/x-python",
   "name": "python",
   "nbconvert_exporter": "python",
   "pygments_lexer": "ipython3",
   "version": "3.7.1"
  }
 },
 "nbformat": 4,
 "nbformat_minor": 2
}
