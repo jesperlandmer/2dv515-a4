{
 "cells": [
  {
   "cell_type": "markdown",
   "metadata": {},
   "source": [
    "# Linear Classifier\n",
    "\n",
    "Using the SGD classifier from scikit to create a two-dimensional linear classifier for 3 classes"
   ]
  },
  {
   "cell_type": "code",
   "execution_count": 3,
   "metadata": {},
   "outputs": [],
   "source": [
    "import csv\n",
    "\n",
    "Xv = []\n",
    "Yv = []\n",
    "\n",
    "with open('spiral.csv') as csv_file:\n",
    "    csv_reader = csv.reader(csv_file, delimiter=',')\n",
    "    line_count = 0\n",
    "    for row in csv_reader:\n",
    "        if line_count != 0:\n",
    "            Xv.append([float(row[0]), float(row[1])])\n",
    "            Yv.append(int(row[2]))\n",
    "        line_count+=1"
   ]
  },
  {
   "cell_type": "code",
   "execution_count": 4,
   "metadata": {
    "scrolled": true
   },
   "outputs": [
    {
     "name": "stdout",
     "output_type": "stream",
     "text": [
      "[1]\n",
      "[2]\n",
      "[2]\n",
      "[1]\n"
     ]
    }
   ],
   "source": [
    "import numpy as np\n",
    "from sklearn import linear_model\n",
    "\n",
    "# Build the SGDClassifier\n",
    "X = np.array(Xv)\n",
    "Y = np.array(Yv)\n",
    "clf = linear_model.SGDClassifier(max_iter=1000, tol=1e-3)\n",
    "clf.fit(X, Y)\n",
    "\n",
    "print(clf.predict([[0.115,0.554]]))\n",
    "print(clf.predict([[0, 0.022]]))\n",
    "print(clf.predict([[-0.115,-0.554]]))\n",
    "print(clf.predict([[0.215,0.554]]))"
   ]
  },
  {
   "cell_type": "markdown",
   "metadata": {},
   "source": [
    "## Confusion Matrix\n"
   ]
  },
  {
   "cell_type": "code",
   "execution_count": 66,
   "metadata": {},
   "outputs": [
    {
     "name": "stdout",
     "output_type": "stream",
     "text": [
      "y_true: [1 2 2 1 0 0 2 2]\n",
      "y_pred: [1 0 2 1 0 0 0 0]\n",
      "\n",
      "Confusion Matrix (y_true, y_pred):\n",
      "[[2 0 0]\n",
      " [0 2 0]\n",
      " [3 0 1]]\n",
      "\n",
      "Accuracy Score:\n",
      "0.625\n"
     ]
    }
   ],
   "source": [
    "from sklearn.metrics import confusion_matrix\n",
    "from sklearn.metrics import accuracy_score\n",
    "import random\n",
    "\n",
    "# Get confusion matrix\n",
    "y_res = []\n",
    "x_pred = []\n",
    "\n",
    "for i in range(8):\n",
    "    ri = random.choice(np.arange(Y.size))\n",
    "    y_res.append(Y[ri])\n",
    "    x_pred.append(X[ri])\n",
    "\n",
    "y_true = np.array(y_res)\n",
    "y_pred = clf.predict(x_pred)\n",
    "\n",
    "print(f'y_true: {y_true}')\n",
    "print(f'y_pred: {y_pred}')\n",
    "\n",
    "print('\\nConfusion Matrix (y_true, y_pred):')\n",
    "print(confusion_matrix(y_true, y_pred))\n",
    "\n",
    "\n",
    "print('\\nAccuracy Score:')\n",
    "print(accuracy_score(y_true, y_pred))\n"
   ]
  },
  {
   "cell_type": "markdown",
   "metadata": {},
   "source": [
    "From the confusion matrix we can view what the system is good at determining and what it is not good at. In this example, we can see that the system is pretty good at determining 1´s and 2´s, but not very good at 0´s.\n",
    "\n",
    "We can interpret the matrix and get the accuracy score for 0's.\n",
    "\n",
    "```\n",
    "+-----------+--------------+-----------+\n",
    "|           |           Actual         |\n",
    "+===========+==============+===========+\n",
    "|           |     TP=2     |    FP=0   |\n",
    "+Predictions+--------------+-----------+\n",
    "|           |     FN=3     |    TN=3   |\n",
    "+-----------+--------------+-----------+\n",
    "````\n",
    "\n",
    "Accuracy Score:\n",
    "\n",
    "\\begin{equation*}\n",
    "ACC = \\frac{TP + TN}{TP + TN + FP + FN}\n",
    "\\end{equation*}\n",
    "\n",
    "\\begin{equation*}\n",
    "ACC = \\frac{2 + 3}{2 + 3 + 0 + 3} = \\frac{5}{8} = 0.625\n",
    "\\end{equation*}"
   ]
  }
 ],
 "metadata": {
  "kernelspec": {
   "display_name": "Python 3",
   "language": "python",
   "name": "python3"
  },
  "language_info": {
   "codemirror_mode": {
    "name": "ipython",
    "version": 3
   },
   "file_extension": ".py",
   "mimetype": "text/x-python",
   "name": "python",
   "nbconvert_exporter": "python",
   "pygments_lexer": "ipython3",
   "version": "3.6.8"
  }
 },
 "nbformat": 4,
 "nbformat_minor": 2
}
